{
 "cells": [
  {
   "cell_type": "code",
   "execution_count": 14,
   "metadata": {
    "collapsed": false
   },
   "outputs": [
    {
     "name": "stderr",
     "output_type": "stream",
     "text": [
      "/Users/duncan/anaconda/envs/single-cell-bioinformatics/lib/python3.5/site-packages/statsmodels/compat/pandas.py:56: FutureWarning: The pandas.core.datetools module is deprecated and will be removed in a future version. Please use the pandas.tseries module instead.\n",
      "  from pandas.core import datetools\n"
     ]
    }
   ],
   "source": [
    "# coding: utf-8\n",
    "%matplotlib inline\n",
    "\n",
    "\n",
    "import os as os\n",
    "from IPython import embed\n",
    "\n",
    "from datetime import datetime\n",
    "import glob\n",
    "import math as math\n",
    "import matplotlib as mpl\n",
    "import matplotlib.pyplot as plt\n",
    "import numpy as np\n",
    "import pandas as pd\n",
    "import re\n",
    "import seaborn as sns\n",
    "from scipy.stats import gmean\n",
    "import statsmodels.api as sm\n",
    "import subprocess\n",
    "import unicodedata\n",
    "\n",
    "# import statsmodels.formula.api as smf  # <- NB fails with some index names (Pygments issue)\n",
    "\n",
    "\n",
    "\n",
    "sns.set(style='whitegrid')\n",
    "\n",
    "def get_filenames(import_path, wildcard='*.csv', filt=()):\n",
    "    names = glob.glob(os.path.join(import_path, wildcard))\n",
    "    if filt:\n",
    "        names = [name for name in names if any(f in name for f in filt)]\n",
    "    \n",
    "    return names"
   ]
  },
  {
   "cell_type": "code",
   "execution_count": 15,
   "metadata": {
    "collapsed": false
   },
   "outputs": [
    {
     "name": "stdout",
     "output_type": "stream",
     "text": [
      "0_100.txt 5_7.txt\r\n"
     ]
    }
   ],
   "source": [
    "!ls ../02\\ random/C/tests/"
   ]
  },
  {
   "cell_type": "code",
   "execution_count": 48,
   "metadata": {
    "collapsed": true
   },
   "outputs": [],
   "source": [
    "f = '../02 random/C/tests/0_100.txt'"
   ]
  },
  {
   "cell_type": "code",
   "execution_count": 43,
   "metadata": {
    "collapsed": true
   },
   "outputs": [],
   "source": [
    "f = '../02 random/C/tests/5_7.txt'"
   ]
  },
  {
   "cell_type": "code",
   "execution_count": 22,
   "metadata": {
    "collapsed": true
   },
   "outputs": [],
   "source": [
    "f = '../02 random/C/tests/0_20.txt'"
   ]
  },
  {
   "cell_type": "code",
   "execution_count": 49,
   "metadata": {
    "collapsed": false
   },
   "outputs": [
    {
     "data": {
      "text/html": [
       "<div>\n",
       "<style>\n",
       "    .dataframe thead tr:only-child th {\n",
       "        text-align: right;\n",
       "    }\n",
       "\n",
       "    .dataframe thead th {\n",
       "        text-align: left;\n",
       "    }\n",
       "\n",
       "    .dataframe tbody tr th {\n",
       "        vertical-align: top;\n",
       "    }\n",
       "</style>\n",
       "<table border=\"1\" class=\"dataframe\">\n",
       "  <thead>\n",
       "    <tr style=\"text-align: right;\">\n",
       "      <th></th>\n",
       "      <th>0</th>\n",
       "    </tr>\n",
       "  </thead>\n",
       "  <tbody>\n",
       "    <tr>\n",
       "      <th>count</th>\n",
       "      <td>99999.000000</td>\n",
       "    </tr>\n",
       "    <tr>\n",
       "      <th>mean</th>\n",
       "      <td>49.993940</td>\n",
       "    </tr>\n",
       "    <tr>\n",
       "      <th>std</th>\n",
       "      <td>29.107909</td>\n",
       "    </tr>\n",
       "    <tr>\n",
       "      <th>min</th>\n",
       "      <td>0.000000</td>\n",
       "    </tr>\n",
       "    <tr>\n",
       "      <th>25%</th>\n",
       "      <td>25.000000</td>\n",
       "    </tr>\n",
       "    <tr>\n",
       "      <th>50%</th>\n",
       "      <td>50.000000</td>\n",
       "    </tr>\n",
       "    <tr>\n",
       "      <th>75%</th>\n",
       "      <td>75.000000</td>\n",
       "    </tr>\n",
       "    <tr>\n",
       "      <th>max</th>\n",
       "      <td>100.000000</td>\n",
       "    </tr>\n",
       "  </tbody>\n",
       "</table>\n",
       "</div>"
      ],
      "text/plain": [
       "                  0\n",
       "count  99999.000000\n",
       "mean      49.993940\n",
       "std       29.107909\n",
       "min        0.000000\n",
       "25%       25.000000\n",
       "50%       50.000000\n",
       "75%       75.000000\n",
       "max      100.000000"
      ]
     },
     "execution_count": 49,
     "metadata": {},
     "output_type": "execute_result"
    }
   ],
   "source": [
    "df = pd.read_csv(f, header=None)\n",
    "df.describe()"
   ]
  },
  {
   "cell_type": "code",
   "execution_count": 42,
   "metadata": {
    "collapsed": false
   },
   "outputs": [
    {
     "data": {
      "text/plain": [
       "20"
      ]
     },
     "execution_count": 42,
     "metadata": {},
     "output_type": "execute_result"
    }
   ],
   "source": [
    "df[0].max()"
   ]
  },
  {
   "cell_type": "code",
   "execution_count": 50,
   "metadata": {
    "collapsed": false
   },
   "outputs": [
    {
     "data": {
      "text/plain": [
       "(array([  974.,  1009.,   980.,   983.,  1040.,   960.,   935.,   967.,\n",
       "          960.,   966.,   931.,   992.,  1004.,  1011.,  1012.,   961.,\n",
       "         1023.,   939.,   992.,   997.,  1051.,   940.,  1045.,  1018.,\n",
       "          972.,  1023.,  1006.,   994.,  1025.,   985.,  1007.,  1005.,\n",
       "         1043.,  1027.,   987.,   947.,   976.,   989.,   993.,   985.,\n",
       "         1009.,   957.,   982.,   961.,   985.,   955.,   997.,   975.,\n",
       "          992.,   972.,   996.,  1007.,  1035.,  1022.,  1020.,  1028.,\n",
       "         1013.,  1033.,   925.,   966.,   953.,  1031.,   968.,   992.,\n",
       "          936.,   979.,  1030.,   980.,  1012.,  1021.,  1017.,  1031.,\n",
       "         1018.,   990.,  1005.,   969.,   965.,   967.,   951.,   995.,\n",
       "          948.,   997.,   953.,   994.,   981.,   959.,   991.,  1022.,\n",
       "          992.,   962.,  1001.,  1063.,   913.,  1007.,  1040.,   984.,\n",
       "          946.,   988.,  1013.,   943.,  1008.]),\n",
       " array([   0.        ,    0.99009901,    1.98019802,    2.97029703,\n",
       "           3.96039604,    4.95049505,    5.94059406,    6.93069307,\n",
       "           7.92079208,    8.91089109,    9.9009901 ,   10.89108911,\n",
       "          11.88118812,   12.87128713,   13.86138614,   14.85148515,\n",
       "          15.84158416,   16.83168317,   17.82178218,   18.81188119,\n",
       "          19.8019802 ,   20.79207921,   21.78217822,   22.77227723,\n",
       "          23.76237624,   24.75247525,   25.74257426,   26.73267327,\n",
       "          27.72277228,   28.71287129,   29.7029703 ,   30.69306931,\n",
       "          31.68316832,   32.67326733,   33.66336634,   34.65346535,\n",
       "          35.64356436,   36.63366337,   37.62376238,   38.61386139,\n",
       "          39.6039604 ,   40.59405941,   41.58415842,   42.57425743,\n",
       "          43.56435644,   44.55445545,   45.54455446,   46.53465347,\n",
       "          47.52475248,   48.51485149,   49.5049505 ,   50.4950495 ,\n",
       "          51.48514851,   52.47524752,   53.46534653,   54.45544554,\n",
       "          55.44554455,   56.43564356,   57.42574257,   58.41584158,\n",
       "          59.40594059,   60.3960396 ,   61.38613861,   62.37623762,\n",
       "          63.36633663,   64.35643564,   65.34653465,   66.33663366,\n",
       "          67.32673267,   68.31683168,   69.30693069,   70.2970297 ,\n",
       "          71.28712871,   72.27722772,   73.26732673,   74.25742574,\n",
       "          75.24752475,   76.23762376,   77.22772277,   78.21782178,\n",
       "          79.20792079,   80.1980198 ,   81.18811881,   82.17821782,\n",
       "          83.16831683,   84.15841584,   85.14851485,   86.13861386,\n",
       "          87.12871287,   88.11881188,   89.10891089,   90.0990099 ,\n",
       "          91.08910891,   92.07920792,   93.06930693,   94.05940594,\n",
       "          95.04950495,   96.03960396,   97.02970297,   98.01980198,\n",
       "          99.00990099,  100.        ]),\n",
       " <a list of 101 Patch objects>)"
      ]
     },
     "execution_count": 50,
     "metadata": {},
     "output_type": "execute_result"
    },
    {
     "data": {
      "image/png": "[encoded data removed]",
      "text/plain": [
       "<matplotlib.figure.Figure at 0x118b9e5f8>"
      ]
     },
     "metadata": {},
     "output_type": "display_data"
    }
   ],
   "source": [
    "plt.hist(df, bins=df[0].max()-df[0].min()+1)"
   ]
  },
  {
   "cell_type": "code",
   "execution_count": null,
   "metadata": {
    "collapsed": true
   },
   "outputs": [],
   "source": []
  }
 ],
 "metadata": {
  "kernelspec": {
   "display_name": "Python 3",
   "language": "python",
   "name": "python3"
  },
  "language_info": {
   "codemirror_mode": {
    "name": "ipython",
    "version": 3
   },
   "file_extension": ".py",
   "mimetype": "text/x-python",
   "name": "python",
   "nbconvert_exporter": "python",
   "pygments_lexer": "ipython3",
   "version": "3.5.2"
  }
 },
 "nbformat": 4,
 "nbformat_minor": 0
}
